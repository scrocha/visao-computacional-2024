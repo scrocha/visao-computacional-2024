{
 "cells": [
  {
   "cell_type": "markdown",
   "metadata": {},
   "source": [
    "# Visão Computacional - Lista 9"
   ]
  },
  {
   "cell_type": "markdown",
   "metadata": {},
   "source": [
    "Aqui serão resolvidas as atividades da terceira lista de Visão Computacional pelo aluno Sillas Rocha da Costa, começaremos realizando alguns imports:"
   ]
  },
  {
   "cell_type": "code",
   "execution_count": 1,
   "metadata": {},
   "outputs": [],
   "source": [
    "import numpy as np\n",
    "import matplotlib.pyplot as plt\n",
    "import cv2"
   ]
  },
  {
   "cell_type": "markdown",
   "metadata": {},
   "source": [
    "# 1 - Implementação Câmera Lenta"
   ]
  },
  {
   "cell_type": "code",
   "execution_count": 2,
   "metadata": {},
   "outputs": [],
   "source": [
    "# 8 frames inseridos a cada par de frames consecutivos do vídeo original\n",
    "fator = 8\n",
    "\n",
    "cap = cv2.VideoCapture('./BusterKeaton.mp4')\n",
    "fps = cap.get(cv2.CAP_PROP_FPS)\n",
    "width = int(cap.get(cv2.CAP_PROP_FRAME_WIDTH))\n",
    "height = int(cap.get(cv2.CAP_PROP_FRAME_HEIGHT))"
   ]
  },
  {
   "cell_type": "code",
   "execution_count": 3,
   "metadata": {},
   "outputs": [],
   "source": [
    "#  criar os vídeos de output\n",
    "# interpolacao por repeticao\n",
    "outrep_width = width\n",
    "outrep_height = height\n",
    "# interpolacao linear\n",
    "outlin_width = width\n",
    "outlin_height = height\n",
    "# interpolacao por fluxo optico\n",
    "outopt_width = width\n",
    "outopt_height = height\n",
    "# video com os 3 métodos combinados lado a lado\n",
    "outcomb_width = 3*width \n",
    "outcomb_height = height\n",
    "\n",
    "# Criar objeto VideoWriter para salvar os vídeos\n",
    "fourcc = cv2.VideoWriter_fourcc(*'mp4v')\n",
    "outrep_path = './output/out_rep.mp4'\n",
    "outlin_path = './output/out_lin.mp4'\n",
    "outopt_path = './output/out_opt.mp4'\n",
    "outcomb_path = './output/out_comb.mp4'\n",
    "\n",
    "outrep = cv2.VideoWriter(outrep_path, fourcc, fps, (outrep_width, outrep_height))\n",
    "outlin = cv2.VideoWriter(outlin_path, fourcc, fps, (outlin_width, outlin_height))\n",
    "outopt = cv2.VideoWriter(outopt_path, fourcc, fps, (outopt_width, outopt_height))\n",
    "outcomb = cv2.VideoWriter(outcomb_path, fourcc, fps, (outcomb_width, outcomb_height))"
   ]
  },
  {
   "cell_type": "code",
   "execution_count": 4,
   "metadata": {},
   "outputs": [
    {
     "name": "stdout",
     "output_type": "stream",
     "text": [
      "Processando:  10 %\n",
      "Processando:  20 %\n",
      "Processando:  30 %\n",
      "Processando:  40 %\n",
      "Processando:  50 %\n",
      "Processando:  60 %\n",
      "Processando:  70 %\n",
      "Processando:  80 %\n",
      "Processando:  90 %\n",
      "Processando:  100 %\n"
     ]
    }
   ],
   "source": [
    "# Função auxiliar para combinar os frames dos vídeos em um único frame\n",
    "def combinar_frames(frames):\n",
    "    # Define as dimensões do novo frame\n",
    "    height = frames[0][0].shape[0]\n",
    "    width = frames[0][0].shape[1]\n",
    "    channels = frames[0][0].shape[2]\n",
    "    combined_frame = np.zeros((height, width * len(frames), channels), dtype=np.uint8)\n",
    "\n",
    "    # Combina os frames dos vídeos\n",
    "    for i, frame in enumerate(frames):\n",
    "        combined_frame[:, i * width : (i + 1) * width, :] = frame[0]\n",
    "\n",
    "    return combined_frame\n",
    "\n",
    "# mapa das coordenadas x e y (video original) - para o método por fluxo óticocoord_x, coord_y = np.meshgrid(np.arange(width), np.arange(height))\n",
    "coord_x, coord_y = np.meshgrid(np.arange(width), np.arange(height))\n",
    "\n",
    "cont_frames = 0; total_frames = cap.get(cv2.CAP_PROP_FRAME_COUNT); bloco = int(total_frames/10)\n",
    "\n",
    "#rebobinar o vídeo original para o início\n",
    "cap.set(cv2.CAP_PROP_POS_FRAMES, 0)\n",
    "ret, prev_frame = cap.read()\n",
    "while cap.isOpened():\n",
    "    cont_frames += 1\n",
    "\n",
    "    #imprimir o progresso do processamento\n",
    "    if cont_frames % bloco == 0:\n",
    "        print('Processando: ', int(cont_frames/bloco)*10, '%')\n",
    "    ret, frame = cap.read()\n",
    "\n",
    "    if not ret:\n",
    "        break\n",
    "    # sequencia comeca com o frame anterior (prev_frame)\n",
    "    frame_repeat = cv2.resize(prev_frame, (outrep_width, outrep_height))\n",
    "    frame_linear = cv2.resize(prev_frame, (outlin_width, outlin_height))\n",
    "    frame_optflow = cv2.resize(prev_frame, (outopt_width, outopt_height))\n",
    "\n",
    "    frame_combinado = combinar_frames([[frame_repeat], [frame_linear], [frame_optflow]])\n",
    "    frame_combinado = cv2.resize(frame_combinado, (outcomb_width, outcomb_height))\n",
    "    # escreve cada frame no video de saida correspondente\n",
    "    outrep.write(frame_repeat)\n",
    "    outlin.write(frame_linear)\n",
    "    outopt.write(frame_optflow)\n",
    "    outcomb.write(frame_combinado)\n",
    "    \n",
    "    # Efetuar o fluxo ótico\n",
    "    prev_gray = cv2.cvtColor(prev_frame, cv2.COLOR_BGR2GRAY)\n",
    "    gray = cv2.cvtColor(frame, cv2.COLOR_BGR2GRAY)\n",
    "    # calcular o fluxo ótico.  Use o método de Farneback já implementado no OpenCV\n",
    "    flow = cv2.calcOpticalFlowFarneback(prev_gray, gray, None, 0.5, 3, 15, 3, 5, 1.2, 0)\n",
    "\n",
    "    # inserir frames intermediários\n",
    "    for i in range(1, fator):\n",
    "        # Interpolação por repetição\n",
    "        frame_repeat = prev_frame\n",
    "\n",
    "        # Interpolação linear\n",
    "        frame_linear = (prev_frame * (fator - i) + frame * i) / fator\n",
    "\n",
    "        # Interpolação por fluxo ótico\n",
    "        map_x = coord_x + flow[..., 0] * (i / fator)\n",
    "        map_y = coord_y + flow[..., 1] * (i / fator)\n",
    "        map_x = np.clip(map_x, 0, width - 1).astype(np.float32)\n",
    "        map_y = np.clip(map_y, 0, height - 1).astype(np.float32)\n",
    "\n",
    "        frame_optflow = np.zeros_like(prev_frame)\n",
    "        for j in range(3):\n",
    "            frame_optflow[..., j] = cv2.remap(prev_frame[..., j], map_x, map_y, interpolation=cv2.INTER_LINEAR)\n",
    "\n",
    "        frame_optflow = (frame_optflow * (fator - i) + frame * i) / fator\n",
    "\n",
    "        # Combina os frames dos vídeos (repetição, linear e fluxo ótico)\n",
    "        frame_combinado = combinar_frames([[frame_repeat], [frame_linear], [frame_optflow]])\n",
    "        #frame_combinado = cv2.resize(frame_combinado, (outcomb_width, outcomb_height))\n",
    "        # escreve cada frame no video de saida correspondente\n",
    "        outrep.write(frame_repeat.astype(np.uint8))\n",
    "        outlin.write(frame_linear.astype(np.uint8))\n",
    "        outopt.write(frame_optflow.astype(np.uint8))\n",
    "        outcomb.write(frame_combinado.astype(np.uint8))\n",
    "\n",
    "    prev_frame = frame"
   ]
  },
  {
   "cell_type": "code",
   "execution_count": 5,
   "metadata": {},
   "outputs": [],
   "source": [
    "cap.release()"
   ]
  },
  {
   "cell_type": "code",
   "execution_count": 6,
   "metadata": {},
   "outputs": [],
   "source": [
    "outrep.release()"
   ]
  },
  {
   "cell_type": "code",
   "execution_count": 7,
   "metadata": {},
   "outputs": [],
   "source": [
    "outlin.release()"
   ]
  },
  {
   "cell_type": "code",
   "execution_count": 8,
   "metadata": {},
   "outputs": [],
   "source": [
    "outopt.release()"
   ]
  },
  {
   "cell_type": "code",
   "execution_count": 9,
   "metadata": {},
   "outputs": [],
   "source": [
    "outcomb.release()"
   ]
  },
  {
   "cell_type": "markdown",
   "metadata": {},
   "source": [
    "# 2 - Comentários"
   ]
  },
  {
   "cell_type": "markdown",
   "metadata": {},
   "source": [
    "### Repeat:\n",
    "\n",
    "Apresenta um movimento mais \"duro\" e travado, talvez por apenas diminuir a transição dos frames, assim, fazendo com que algo que tivesse 30 fps meio que ficasse com 15 fps, ou seja, apenas diminui o tempo de transição dos frames.\n",
    "\n",
    "### Linear:\n",
    "\n",
    "Apresenta uma transição de frames melhor, pois o novo frame é um meio termo entre dois frames, deste modo, continua com uma transição ao invés de apenas travar o frame, mesmo que ela não seja perfeita e talvez possa possuir borrados, é uma solução melhor que a repeat no sentido de gerar um movimento mais fluido.\n",
    "\n",
    "### Opt Flow:\n",
    "\n",
    "Bem similar a linear mas até um pouco mais fluida a movimentação."
   ]
  },
  {
   "cell_type": "markdown",
   "metadata": {},
   "source": [
    "# 3 - Fluxo ótico e Pinhole"
   ]
  },
  {
   "cell_type": "markdown",
   "metadata": {},
   "source": [
    "a) - O fluxo óptico é a diferença da posição dos pixels entre dois frames consecutivos, assim, a projeção de um ponto no plano é tal que:\n",
    "$$x'=\\dfrac{f\\cdot x}{d}$$\n",
    "\n",
    "Onde $x'$ e $x$ são o ponto projetado e o ponto original, respectivamente. Sabemos que a distância entre dois frames consecutivos é a velocidade da câmera vezes a tempo entre dois frames, assim: \n",
    "$$\\Delta x = v_{cam}*\\dfrac{1}{fps}=\\dfrac{v_{cam}}{60}$$\n",
    "\n",
    "Por fim, chegamos que a nova projeção de x é:\n",
    "$$x'_1=\\dfrac{f\\cdot (x + \\Delta x)}{d}$$\n",
    "\n",
    "Assim:\n",
    "\n",
    "$$of_x=x'_1-x'=\\dfrac{f\\cdot (x + \\Delta x)}{d}-\\dfrac{f\\cdot x}{d}=\\dfrac{f\\cdot \\Delta x}{d}=\\dfrac{f\\cdot v_{cam}}{60\\cdot d}$$\n",
    "\n",
    "Portanto:\n",
    "\n",
    "$$d=\\dfrac{f\\cdot v_{cam}}{60\\cdot of_x}$$"
   ]
  },
  {
   "cell_type": "markdown",
   "metadata": {},
   "source": [
    "b) - Quanto $d\\rightarrow \\infty$, temos por a que $of_x\\rightarrow 0$, ou seja, o fluxo ótico tende a $0$, o que significa que a diferença entre dois frames será praticamente nenhuma, o que corresponde sim a expectativa, já que, quando mais distante o objeto, mais movimento é necessário na câmera para que seja perceptível que o vídeo está em movimento."
   ]
  },
  {
   "cell_type": "markdown",
   "metadata": {},
   "source": []
  }
 ],
 "metadata": {
  "kernelspec": {
   "display_name": ".venv",
   "language": "python",
   "name": "python3"
  },
  "language_info": {
   "codemirror_mode": {
    "name": "ipython",
    "version": 3
   },
   "file_extension": ".py",
   "mimetype": "text/x-python",
   "name": "python",
   "nbconvert_exporter": "python",
   "pygments_lexer": "ipython3",
   "version": "3.12.3"
  }
 },
 "nbformat": 4,
 "nbformat_minor": 2
}
