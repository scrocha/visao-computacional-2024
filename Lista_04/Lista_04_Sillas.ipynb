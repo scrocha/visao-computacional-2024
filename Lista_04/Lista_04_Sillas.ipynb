{
 "cells": [
  {
   "cell_type": "markdown",
   "metadata": {},
   "source": [
    "# Visão Computacional - Lista 4"
   ]
  },
  {
   "cell_type": "markdown",
   "metadata": {},
   "source": [
    "Aqui serão resolvidas as atividades da terceira lista de Visão Computacional pelo aluno Sillas Rocha da Costa, começaremos realizando alguns imports:"
   ]
  },
  {
   "cell_type": "code",
   "execution_count": 1,
   "metadata": {},
   "outputs": [],
   "source": [
    "from matplotlib import pyplot as plt\n",
    "import sounddevice as sd\n",
    "import soundfile as sf\n",
    "from scipy.io.wavfile import write\n",
    "import matplotlib.pyplot as plt\n",
    "import numpy as np"
   ]
  },
  {
   "cell_type": "markdown",
   "metadata": {},
   "source": [
    "# Exercício 1 - Áudio"
   ]
  },
  {
   "cell_type": "markdown",
   "metadata": {},
   "source": [
    "Lendo o arquivo de áudio"
   ]
  },
  {
   "cell_type": "code",
   "execution_count": 2,
   "metadata": {},
   "outputs": [],
   "source": [
    "data60, fs = sf.read(\"./StarWars60.wav\", dtype='float32')\n",
    "# sd.play(data60, fs)\n",
    "# status = sd.wait()"
   ]
  },
  {
   "cell_type": "markdown",
   "metadata": {},
   "source": [
    "Reduzindo para 10 segundos"
   ]
  },
  {
   "cell_type": "code",
   "execution_count": 3,
   "metadata": {},
   "outputs": [],
   "source": [
    "seconds = 10\n",
    "data10 = data60[:fs*seconds]\n",
    "# sd.play(data10, fs)\n",
    "# status = sd.wait()\n",
    "write('./StarWars10.wav', fs, data10)"
   ]
  },
  {
   "cell_type": "markdown",
   "metadata": {},
   "source": [
    "Plotando o resultado"
   ]
  },
  {
   "cell_type": "code",
   "execution_count": 7,
   "metadata": {},
   "outputs": [
    {
     "data": {
      "image/png": "[encoded data removed]",
      "text/plain": [
       "<Figure size 640x480 with 1 Axes>"
      ]
     },
     "metadata": {},
     "output_type": "display_data"
    }
   ],
   "source": [
    "plt.plot(data10)\n",
    "datahat = np.fft.fft(data10)\n",
    "plt.plot(abs(datahat), color=\"blue\")\n",
    "plt.title(\"Star Wars de 10 segundos\")\n",
    "plt.show()"
   ]
  },
  {
   "cell_type": "markdown",
   "metadata": {},
   "source": [
    "# Exercício 2 - Compressão com Fourier"
   ]
  },
  {
   "cell_type": "code",
   "execution_count": 5,
   "metadata": {},
   "outputs": [],
   "source": [
    "p = 0.2\n",
    "transfomada = np.fft.fft(data10)\n",
    "freq_range = int(len(transfomada)*p)\n",
    "\n",
    "transfomada[freq_range:-freq_range] = 0\n",
    "\n",
    "data_results = np.fft.ifft(transfomada).real\n",
    "\n",
    "# sd.play(data10, fs)\n",
    "# status = sd.wait()\n",
    "# sd.play(data_results, fs)\n",
    "# status = sd.wait()"
   ]
  },
  {
   "cell_type": "markdown",
   "metadata": {},
   "source": [
    "O som parece ficar mais abafado e com \"menos nitidez\" como se houvesse um colchão ou pano cobrindo o microfone na hora da gravação."
   ]
  },
  {
   "cell_type": "markdown",
   "metadata": {},
   "source": [
    "# Exercício 3 - Convolução em sinais de áudio com Fourier"
   ]
  },
  {
   "cell_type": "markdown",
   "metadata": {},
   "source": [
    "a) Filtro com convolução:"
   ]
  },
  {
   "cell_type": "code",
   "execution_count": 48,
   "metadata": {},
   "outputs": [],
   "source": [
    "def eco_normal(som:np.ndarray, fs:int, atraso:int=0.5) -> np.ndarray:\n",
    "    range_atraso = int(fs*atraso)\n",
    "    som_size = len(som)\n",
    "\n",
    "    s_1 = np.zeros(range_atraso + som_size)\n",
    "    s_2 = np.zeros(range_atraso + som_size)\n",
    "\n",
    "    s_1[:som_size] = som\n",
    "    s_2[range_atraso:] = som\n",
    "\n",
    "    eco = s_1 + s_2/2\n",
    "\n",
    "    return eco\n",
    "\n",
    "def eco_convolve(som:np.ndarray, fs:int, atraso:int=0.5) -> np.ndarray:\n",
    "    filtro = np.zeros_like(som)\n",
    "    filtro[0] = 1\n",
    "    filtro[int(atraso*fs)] = 1/2\n",
    "\n",
    "    eco = np.fft.ifft(np.fft.fft(som) * np.fft.fft(filtro))\n",
    "\n",
    "    return eco.real"
   ]
  },
  {
   "cell_type": "code",
   "execution_count": 51,
   "metadata": {},
   "outputs": [],
   "source": [
    "audio, fs = sf.read(\"./Coruja.WAV\", dtype='float32')  \n",
    "\n",
    "audio_com_eco = eco_convolve(audio, fs)\n",
    "\n",
    "sd.play(audio_com_eco, fs)\n",
    "# status = sd.wait()"
   ]
  },
  {
   "cell_type": "markdown",
   "metadata": {},
   "source": [
    "b) Reverb:"
   ]
  },
  {
   "cell_type": "code",
   "execution_count": 68,
   "metadata": {},
   "outputs": [],
   "source": [
    "def reverb_convolve(som:np.ndarray, fs:int, copias:int=10, atraso:float=0.1) -> np.ndarray:\n",
    "    filtro = np.zeros_like(som)\n",
    "    filtro[0] = 1\n",
    "\n",
    "    range_atraso = int(fs*atraso)\n",
    "\n",
    "    for i in range(1, copias+1):\n",
    "        index = range_atraso * i\n",
    "\n",
    "        filtro[index] = (copias-i+1)/(copias+1)\n",
    "\n",
    "\n",
    "    eco = np.fft.ifft(np.fft.fft(som) * np.fft.fft(filtro))\n",
    "\n",
    "    # print(filtro[filtro!=0])\n",
    "\n",
    "    return eco.real"
   ]
  },
  {
   "cell_type": "code",
   "execution_count": 69,
   "metadata": {},
   "outputs": [],
   "source": [
    "audio, fs = sf.read(\"./StarWars10.wav\", dtype='float32')  \n",
    "\n",
    "audio_com_eco = reverb_convolve(audio, fs)\n",
    "\n",
    "sd.play(audio_com_eco, fs)\n",
    "# status = sd.wait()"
   ]
  },
  {
   "cell_type": "code",
   "execution_count": null,
   "metadata": {},
   "outputs": [],
   "source": []
  }
 ],
 "metadata": {
  "kernelspec": {
   "display_name": ".venv",
   "language": "python",
   "name": "python3"
  },
  "language_info": {
   "codemirror_mode": {
    "name": "ipython",
    "version": 3
   },
   "file_extension": ".py",
   "mimetype": "text/x-python",
   "name": "python",
   "nbconvert_exporter": "python",
   "pygments_lexer": "ipython3",
   "version": "3.11.5"
  }
 },
 "nbformat": 4,
 "nbformat_minor": 2
}
